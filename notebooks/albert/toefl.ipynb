{
 "cells": [
  {
   "cell_type": "code",
   "execution_count": 15,
   "metadata": {},
   "outputs": [
    {
     "name": "stdout",
     "output_type": "stream",
     "text": [
      "The autoreload extension is already loaded. To reload it, use:\n",
      "  %reload_ext autoreload\n"
     ]
    },
    {
     "data": {
      "text/plain": [
       "'2.2.0-rc3'"
      ]
     },
     "execution_count": 15,
     "metadata": {},
     "output_type": "execute_result"
    }
   ],
   "source": [
    "%load_ext autoreload\n",
    "%autoreload 2\n",
    "\n",
    "import tensorflow as tf\n",
    "tf.__version__"
   ]
  },
  {
   "cell_type": "code",
   "execution_count": 9,
   "metadata": {},
   "outputs": [],
   "source": [
    "import sys\n",
    "sys.path.append('/Users/keemsunguk/Projects/ALBERT')\n",
    "sys.path.append('/Users/keemsunguk/Projects/EssayGrader')"
   ]
  },
  {
   "cell_type": "code",
   "execution_count": 10,
   "metadata": {},
   "outputs": [],
   "source": [
    "import os\n",
    "import time\n",
    "import tokenization"
   ]
  },
  {
   "cell_type": "code",
   "execution_count": 11,
   "metadata": {},
   "outputs": [],
   "source": [
    "from egrader.db_util import DBUtil"
   ]
  },
  {
   "cell_type": "code",
   "execution_count": 12,
   "metadata": {},
   "outputs": [],
   "source": [
    "edb = DBUtil(local_db=True)"
   ]
  },
  {
   "cell_type": "code",
   "execution_count": 13,
   "metadata": {},
   "outputs": [
    {
     "name": "stdout",
     "output_type": "stream",
     "text": [
      "==== Database Description ====\n",
      "['essay']\n",
      "Total Essay: 30498\n",
      "Total SAT: 3310\n",
      "Total TOEFL: 4614\n",
      "Total GRE: 6688\n"
     ]
    }
   ],
   "source": [
    "edb.describe_db()"
   ]
  },
  {
   "cell_type": "code",
   "execution_count": 19,
   "metadata": {},
   "outputs": [],
   "source": [
    "#import classifier_utils\n",
    "#import modeling\n",
    "#from tensorflow.contrib import cluster_resolver as contrib_cluster_resolver\n",
    "#from tensorflow.contrib import tpu as contrib_tpu"
   ]
  },
  {
   "cell_type": "code",
   "execution_count": 21,
   "metadata": {},
   "outputs": [
    {
     "data": {
      "text/plain": [
       "dict_keys(['_id', 'recno', 'user_id', 'type', 'essay', 'time_stamp', 'created', 'reviewed', 'edited', 'topic', 'rate2', 'rate', 'editor', 'wcount', 'sentences'])"
      ]
     },
     "execution_count": 21,
     "metadata": {},
     "output_type": "execute_result"
    }
   ],
   "source": [
    "edb.essay_collection.find_one({}).keys()"
   ]
  },
  {
   "cell_type": "code",
   "execution_count": 29,
   "metadata": {},
   "outputs": [],
   "source": [
    "topics = list(set([a['topic'] for a in list(edb.essay_collection.find({}, {'_id': 0, 'topic': 1}))]))"
   ]
  },
  {
   "cell_type": "code",
   "execution_count": 35,
   "metadata": {},
   "outputs": [
    {
     "data": {
      "text/plain": [
       "'Argue 12. <B> The following appeared in a memo from a vice president of Alta Manufacturing. \\r\\n \"During the past year, Alta Manufacturing had thirty percent more on-the-job accidents than nearby Panoply Industries, where the work shifts are one hour shorter than ours. Experts believe that a significant contributing factor in many on-the-job accidents is fatigue and sleep deprivation among workers. Therefore, to reduce the number of on-the-job accidents at Alta and thereby increase productivity, we should shorten each of our three work shifts by one hour so that our employees will get adequate amounts of sleep.\"'"
      ]
     },
     "execution_count": 35,
     "metadata": {},
     "output_type": "execute_result"
    }
   ],
   "source": [
    "topics[5]"
   ]
  },
  {
   "cell_type": "code",
   "execution_count": null,
   "metadata": {},
   "outputs": [],
   "source": []
  }
 ],
 "metadata": {
  "kernelspec": {
   "display_name": "base37",
   "language": "python",
   "name": "base37"
  },
  "language_info": {
   "codemirror_mode": {
    "name": "ipython",
    "version": 3
   },
   "file_extension": ".py",
   "mimetype": "text/x-python",
   "name": "python",
   "nbconvert_exporter": "python",
   "pygments_lexer": "ipython3",
   "version": "3.7.7"
  }
 },
 "nbformat": 4,
 "nbformat_minor": 4
}
