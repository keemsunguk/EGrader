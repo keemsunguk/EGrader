{
 "cells": [
  {
   "cell_type": "code",
   "execution_count": 23,
   "metadata": {},
   "outputs": [
    {
     "name": "stdout",
     "output_type": "stream",
     "text": [
      "9\n",
      "OOS 0 SOS\n",
      "OSO 1 SOS\n",
      "OSS 2 SOS\n",
      "OSO 3 SOS\n",
      "OSO 4 SOS\n",
      "5\n"
     ]
    }
   ],
   "source": [
    "import math\n",
    "import os\n",
    "import random\n",
    "import re\n",
    "import sys\n",
    "\n",
    "ptrn = 'SOS'\n",
    "\n",
    "# Complete the marsExploration function below.\n",
    "def marsExploration(s):\n",
    "    i = 0\n",
    "    #for r in re.finditer('SOS', s):\n",
    "    #    i += 1\n",
    "    #return len(s) // 3 - i\n",
    "    for j in range(len(s)//3):\n",
    "        if ptrn != s[j*3:j*3+3]: \n",
    "            print(s[j*3:j*3+3], i, ptrn)\n",
    "            i += 1\n",
    "        else:\n",
    "            pass\n",
    "    return i\n",
    "\n",
    "if __name__ == '__main__':\n",
    "    s = 'SOSOOSOSOSOSOSSOSOSOSOSOSOS'\n",
    "    print(len(s)//3)\n",
    "    result = marsExploration(s)\n",
    "    print(result)"
   ]
  },
  {
   "cell_type": "code",
   "execution_count": 17,
   "metadata": {},
   "outputs": [
    {
     "data": {
      "text/plain": [
       "True"
      ]
     },
     "execution_count": 17,
     "metadata": {},
     "output_type": "execute_result"
    }
   ],
   "source": [
    "ptrn == 'SOS'"
   ]
  },
  {
   "cell_type": "code",
   "execution_count": 18,
   "metadata": {},
   "outputs": [
    {
     "data": {
      "text/plain": [
       "3"
      ]
     },
     "execution_count": 18,
     "metadata": {},
     "output_type": "execute_result"
    }
   ],
   "source": [
    "result"
   ]
  },
  {
   "cell_type": "code",
   "execution_count": 29,
   "metadata": {},
   "outputs": [],
   "source": [
    "def hackerrankInString(s):\n",
    "    ptrn = 'hackerrank'\n",
    "    p_loc = 0\n",
    "    for c in s:\n",
    "        if c == ptrn[p_loc]:\n",
    "            p_loc += 1\n",
    "            if p_loc == len(ptrn):\n",
    "                return 'YES'\n",
    "    return 'NO'"
   ]
  },
  {
   "cell_type": "code",
   "execution_count": 30,
   "metadata": {},
   "outputs": [
    {
     "data": {
      "text/plain": [
       "'YES'"
      ]
     },
     "execution_count": 30,
     "metadata": {},
     "output_type": "execute_result"
    }
   ],
   "source": [
    "s = 'hereiamstackerrannnnnnnkkkkkk'\n",
    "hackerrankInString(s)"
   ]
  },
  {
   "cell_type": "code",
   "execution_count": 31,
   "metadata": {
    "collapsed": true,
    "jupyter": {
     "outputs_hidden": true
    }
   },
   "outputs": [
    {
     "data": {
      "text/plain": [
       "[' ',\n",
       " 'a',\n",
       " 'b',\n",
       " 'c',\n",
       " 'd',\n",
       " 'e',\n",
       " 'f',\n",
       " 'g',\n",
       " 'h',\n",
       " 'i',\n",
       " 'j',\n",
       " 'k',\n",
       " 'l',\n",
       " 'm',\n",
       " 'n',\n",
       " 'o',\n",
       " 'p',\n",
       " 'q',\n",
       " 'r',\n",
       " 's',\n",
       " 't',\n",
       " 'u',\n",
       " 'v',\n",
       " 'w',\n",
       " 'x',\n",
       " 'y',\n",
       " 'z']"
      ]
     },
     "execution_count": 31,
     "metadata": {},
     "output_type": "execute_result"
    }
   ],
   "source": [
    "all_chars = sorted(list(set(list('The quick brown fox jumps over the lazy dog'.lower()))))\n",
    "all_chars"
   ]
  },
  {
   "cell_type": "code",
   "execution_count": 40,
   "metadata": {},
   "outputs": [],
   "source": [
    "def pangrams(s):\n",
    "    all_chars = set(list('The quick brown fox jumps over the lazy dog'.lower()))\n",
    "    diff = all_chars - set(list(s.lower()))\n",
    "    if len(diff) > 0:\n",
    "        return 'not pangram'\n",
    "    else:\n",
    "        return 'pangram'"
   ]
  },
  {
   "cell_type": "code",
   "execution_count": 41,
   "metadata": {},
   "outputs": [
    {
     "data": {
      "text/plain": [
       "'pangram'"
      ]
     },
     "execution_count": 41,
     "metadata": {},
     "output_type": "execute_result"
    }
   ],
   "source": [
    "s = 'We promptly judged antique ivory buckles for the next prize'\n",
    "pangrams(s)"
   ]
  },
  {
   "cell_type": "code",
   "execution_count": 35,
   "metadata": {
    "collapsed": true,
    "jupyter": {
     "outputs_hidden": true
    }
   },
   "outputs": [
    {
     "data": {
      "text/plain": [
       "[' ',\n",
       " 'a',\n",
       " 'b',\n",
       " 'c',\n",
       " 'd',\n",
       " 'e',\n",
       " 'f',\n",
       " 'g',\n",
       " 'h',\n",
       " 'i',\n",
       " 'j',\n",
       " 'k',\n",
       " 'l',\n",
       " 'm',\n",
       " 'n',\n",
       " 'o',\n",
       " 'p',\n",
       " 'q',\n",
       " 'r',\n",
       " 's',\n",
       " 't',\n",
       " 'u',\n",
       " 'v',\n",
       " 'w',\n",
       " 'x',\n",
       " 'y',\n",
       " 'z']"
      ]
     },
     "execution_count": 35,
     "metadata": {},
     "output_type": "execute_result"
    }
   ],
   "source": [
    "sorted(list(set(list(s.lower()))))"
   ]
  },
  {
   "cell_type": "code",
   "execution_count": 45,
   "metadata": {},
   "outputs": [
    {
     "data": {
      "text/plain": [
       "99"
      ]
     },
     "execution_count": 45,
     "metadata": {},
     "output_type": "execute_result"
    }
   ],
   "source": [
    "ord('c')"
   ]
  },
  {
   "cell_type": "code",
   "execution_count": 46,
   "metadata": {},
   "outputs": [],
   "source": [
    "def weightedUniformStrings(s, queries):\n",
    "    offset = ord('a') - 1\n",
    "    cur_char = ' '\n",
    "    u_weights = []\n",
    "    w = 0\n",
    "    for c in s:\n",
    "        if c == cur_char[-1]:\n",
    "            cur_char += c\n",
    "            w = (ord(c) - offset)*len(cur_char)\n",
    "        else:\n",
    "            cur_char = c\n",
    "            w = ord(c) - offset\n",
    "        u_weights.append(w)\n",
    "    u_weights = set(u_weights)\n",
    "    res = []\n",
    "    for q in queries:\n",
    "        if q in u_weights:\n",
    "            res.append('YES')\n",
    "    return res"
   ]
  },
  {
   "cell_type": "code",
   "execution_count": 48,
   "metadata": {},
   "outputs": [
    {
     "data": {
      "text/plain": [
       "[6, 1, 2, 3, 4]"
      ]
     },
     "execution_count": 48,
     "metadata": {},
     "output_type": "execute_result"
    }
   ],
   "source": [
    "s='abccddde'\n",
    "qu=[6,1,2,3,4]\n",
    "weightedUniformStrings(s, qu)"
   ]
  },
  {
   "cell_type": "code",
   "execution_count": 53,
   "metadata": {},
   "outputs": [],
   "source": [
    "s = [[5, 3, 4], [1, 5, 8], [6, 4, 2]]"
   ]
  },
  {
   "cell_type": "code",
   "execution_count": 54,
   "metadata": {},
   "outputs": [
    {
     "data": {
      "text/plain": [
       "{7, 9}"
      ]
     },
     "execution_count": 54,
     "metadata": {},
     "output_type": "execute_result"
    }
   ],
   "source": [
    "my_set = {1,2,3,4,5,6,7,8,9}\n",
    "missing_no = my_set - set([ b for a in s for b in a])\n",
    "missing_no"
   ]
  },
  {
   "cell_type": "code",
   "execution_count": 58,
   "metadata": {},
   "outputs": [],
   "source": [
    "def get_rep_no(s):\n",
    "    rep_no = {}\n",
    "    prev = 0\n",
    "    for n in sorted([ b for a in s for b in a]):\n",
    "        if prev == n:\n",
    "            if n in list(rep_no.keys()):\n",
    "                rep_no[n] += 1\n",
    "        else:\n",
    "            rep_no[n] = 1\n",
    "        prev = n\n",
    "    return rep_no"
   ]
  },
  {
   "cell_type": "code",
   "execution_count": 95,
   "metadata": {},
   "outputs": [],
   "source": [
    "def all_ms():\n",
    "    ms = []\n",
    "    corners = [2,8,4,6]\n",
    "    for i, c in enumerate(corners):\n",
    "        for j in [2,3]:\n",
    "            m = [[c,0,0], [0,5,0], [0,0,10-c]]\n",
    "            k = j if i < 2 else j-2\n",
    "            m[0][2] = corners[k]\n",
    "            m[2][0] = 10 - corners[k]\n",
    "            m[0][1] = 15 - m[0][0] - m[0][2]\n",
    "            m[1][0] = 15 - m[0][0] - m[2][0]\n",
    "            m[2][1] = 15 - m[2][0] - m[2][2]\n",
    "            m[1][2] = 15 - m[0][2] - m[2][2]\n",
    "#            print(m)\n",
    "            ms.append(m)\n",
    "    return ms"
   ]
  },
  {
   "cell_type": "code",
   "execution_count": 96,
   "metadata": {},
   "outputs": [
    {
     "name": "stdout",
     "output_type": "stream",
     "text": [
      "[[2, 9, 4], [7, 5, 3], [6, 1, 8]]\n",
      "[[2, 7, 6], [9, 5, 1], [4, 3, 8]]\n",
      "[[8, 3, 4], [1, 5, 9], [6, 7, 2]]\n",
      "[[8, 1, 6], [3, 5, 7], [4, 9, 2]]\n",
      "[[4, 9, 2], [3, 5, 7], [8, 1, 6]]\n",
      "[[4, 3, 8], [9, 5, 1], [2, 7, 6]]\n",
      "[[6, 7, 2], [1, 5, 9], [8, 3, 4]]\n",
      "[[6, 1, 8], [7, 5, 3], [2, 9, 4]]\n"
     ]
    }
   ],
   "source": [
    "ms = all_ms()\n",
    "for m in ms:\n",
    "    print(m)"
   ]
  },
  {
   "cell_type": "code",
   "execution_count": 97,
   "metadata": {},
   "outputs": [
    {
     "name": "stdout",
     "output_type": "stream",
     "text": [
      "[2, 9, 4, 7, 5, 3, 6, 1, 8]\n",
      "[2, 7, 6, 9, 5, 1, 4, 3, 8]\n",
      "[8, 3, 4, 1, 5, 9, 6, 7, 2]\n",
      "[8, 1, 6, 3, 5, 7, 4, 9, 2]\n",
      "[4, 9, 2, 3, 5, 7, 8, 1, 6]\n",
      "[4, 3, 8, 9, 5, 1, 2, 7, 6]\n",
      "[6, 7, 2, 1, 5, 9, 8, 3, 4]\n",
      "[6, 1, 8, 7, 5, 3, 2, 9, 4]\n"
     ]
    }
   ],
   "source": [
    "ms = all_ms()\n",
    "flat_s = [b for a in s for b in a]\n",
    "min_cost = 100\n",
    "for m in ms:\n",
    "    flat_m = [b for a in m for b in a]\n",
    "    print(flat_m)\n"
   ]
  },
  {
   "cell_type": "code",
   "execution_count": 98,
   "metadata": {},
   "outputs": [
    {
     "data": {
      "text/plain": [
       "[5, 3, 4, 1, 5, 8, 6, 4, 2]"
      ]
     },
     "execution_count": 98,
     "metadata": {},
     "output_type": "execute_result"
    }
   ],
   "source": [
    "flat_s"
   ]
  },
  {
   "cell_type": "code",
   "execution_count": 105,
   "metadata": {},
   "outputs": [
    {
     "data": {
      "text/plain": [
       "29"
      ]
     },
     "execution_count": 105,
     "metadata": {},
     "output_type": "execute_result"
    }
   ],
   "source": [
    "sum(map(lambda x: abs(x[0]-x[1]), zip(flat_m, flat_s)))"
   ]
  },
  {
   "cell_type": "code",
   "execution_count": null,
   "metadata": {},
   "outputs": [],
   "source": []
  }
 ],
 "metadata": {
  "kernelspec": {
   "display_name": "base37",
   "language": "python",
   "name": "base37"
  },
  "language_info": {
   "codemirror_mode": {
    "name": "ipython",
    "version": 3
   },
   "file_extension": ".py",
   "mimetype": "text/x-python",
   "name": "python",
   "nbconvert_exporter": "python",
   "pygments_lexer": "ipython3",
   "version": "3.7.7"
  }
 },
 "nbformat": 4,
 "nbformat_minor": 4
}
