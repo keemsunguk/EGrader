{
 "cells": [
  {
   "cell_type": "code",
   "execution_count": 3,
   "metadata": {},
   "outputs": [],
   "source": [
    "import pandas as pd\n",
    "import json"
   ]
  },
  {
   "cell_type": "code",
   "execution_count": 12,
   "metadata": {},
   "outputs": [],
   "source": [
    "with open('/Users/keemsunguk/Projects/EssayGrader/data/toefl_list.json', 'r') as rf:\n",
    "    toefl_list = json.load(rf)\n",
    "toefl_df = pd.DataFrame(toefl_list, columns=['essay', 'rating'])"
   ]
  },
  {
   "cell_type": "code",
   "execution_count": 13,
   "metadata": {},
   "outputs": [],
   "source": [
    "toefl_df['rating'] = toefl_df.apply(lambda x: round(x['rating']), axis=1)"
   ]
  },
  {
   "cell_type": "code",
   "execution_count": 14,
   "metadata": {},
   "outputs": [],
   "source": [
    "toefl_df['rating'] = toefl_df.apply(lambda x: 1 if x['rating'] == 0 else x['rating'], axis=1)"
   ]
  },
  {
   "cell_type": "code",
   "execution_count": 15,
   "metadata": {},
   "outputs": [
    {
     "data": {
      "text/plain": [
       "4    2729\n",
       "3     737\n",
       "2     523\n",
       "5     470\n",
       "6     133\n",
       "1      92\n",
       "Name: rating, dtype: int64"
      ]
     },
     "execution_count": 15,
     "metadata": {},
     "output_type": "execute_result"
    }
   ],
   "source": [
    "toefl_df.rating.value_counts()"
   ]
  },
  {
   "cell_type": "code",
   "execution_count": 16,
   "metadata": {},
   "outputs": [],
   "source": [
    "toelf_2 = toefl_df.loc[toefl_df['rating']==2]"
   ]
  },
  {
   "cell_type": "code",
   "execution_count": 19,
   "metadata": {},
   "outputs": [],
   "source": [
    "toefl_df = toefl_df.append([toelf_2]*4,ignore_index=True)"
   ]
  },
  {
   "cell_type": "code",
   "execution_count": 20,
   "metadata": {},
   "outputs": [
    {
     "data": {
      "text/plain": [
       "(6776, 2)"
      ]
     },
     "execution_count": 20,
     "metadata": {},
     "output_type": "execute_result"
    }
   ],
   "source": [
    "toefl_df.shape"
   ]
  },
  {
   "cell_type": "code",
   "execution_count": 22,
   "metadata": {},
   "outputs": [],
   "source": [
    "toelf_6 = toefl_df.loc[toefl_df['rating']==6] # 133\n",
    "toelf_5 = toefl_df.loc[toefl_df['rating']==5] # 470\n",
    "toelf_3 = toefl_df.loc[toefl_df['rating']==3] # 737\n",
    "toelf_1 = toefl_df.loc[toefl_df['rating']==1] # 92"
   ]
  },
  {
   "cell_type": "code",
   "execution_count": 23,
   "metadata": {},
   "outputs": [],
   "source": [
    "toefl_df = toefl_df.append([toelf_6]*10,ignore_index=True)\n",
    "toefl_df = toefl_df.append([toelf_5]*4,ignore_index=True)\n",
    "toefl_df = toefl_df.append([toelf_3]*3,ignore_index=True)\n",
    "toefl_df = toefl_df.append([toelf_1]*20,ignore_index=True)"
   ]
  },
  {
   "cell_type": "code",
   "execution_count": 24,
   "metadata": {},
   "outputs": [
    {
     "data": {
      "text/plain": [
       "3    2948\n",
       "4    2729\n",
       "2    2615\n",
       "5    2350\n",
       "1    1932\n",
       "6    1463\n",
       "Name: rating, dtype: int64"
      ]
     },
     "execution_count": 24,
     "metadata": {},
     "output_type": "execute_result"
    }
   ],
   "source": [
    "toefl_df.rating.value_counts()"
   ]
  },
  {
   "cell_type": "code",
   "execution_count": 28,
   "metadata": {},
   "outputs": [
    {
     "data": {
      "text/plain": [
       "2    2948\n",
       "3    2729\n",
       "1    2615\n",
       "4    2350\n",
       "0    1932\n",
       "5    1463\n",
       "Name: rating, dtype: int64"
      ]
     },
     "execution_count": 28,
     "metadata": {},
     "output_type": "execute_result"
    }
   ],
   "source": [
    "toefl_df['rating'] = toefl_df.apply(lambda x: x['rating']-1, axis=1)\n",
    "toefl_df.rating.value_counts()"
   ]
  },
  {
   "cell_type": "code",
   "execution_count": 29,
   "metadata": {},
   "outputs": [],
   "source": [
    "with open('/Users/keemsunguk/Projects/data/toefl_balanced.pkl', 'wb') as wf:\n",
    "    toefl_df.to_pickle(wf)"
   ]
  },
  {
   "cell_type": "code",
   "execution_count": 30,
   "metadata": {},
   "outputs": [],
   "source": [
    "with open('/Users/keemsunguk/Projects/data/toefl_balanced.pkl', 'rb') as rf:\n",
    "    toefl_df = pd.read_pickle(rf)"
   ]
  },
  {
   "cell_type": "code",
   "execution_count": 31,
   "metadata": {},
   "outputs": [
    {
     "data": {
      "text/plain": [
       "2    2948\n",
       "3    2729\n",
       "1    2615\n",
       "4    2350\n",
       "0    1932\n",
       "5    1463\n",
       "Name: rating, dtype: int64"
      ]
     },
     "execution_count": 31,
     "metadata": {},
     "output_type": "execute_result"
    }
   ],
   "source": [
    "toefl_df.rating.value_counts()"
   ]
  },
  {
   "cell_type": "code",
   "execution_count": null,
   "metadata": {},
   "outputs": [],
   "source": []
  }
 ],
 "metadata": {
  "kernelspec": {
   "display_name": "base37",
   "language": "python",
   "name": "base37"
  },
  "language_info": {
   "codemirror_mode": {
    "name": "ipython",
    "version": 3
   },
   "file_extension": ".py",
   "mimetype": "text/x-python",
   "name": "python",
   "nbconvert_exporter": "python",
   "pygments_lexer": "ipython3",
   "version": "3.7.7"
  }
 },
 "nbformat": 4,
 "nbformat_minor": 4
}
