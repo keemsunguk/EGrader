{
 "cells": [
  {
   "cell_type": "code",
   "execution_count": 1,
   "metadata": {},
   "outputs": [],
   "source": [
    "%load_ext autoreload\n",
    "%autoreload 2"
   ]
  },
  {
   "cell_type": "markdown",
   "metadata": {},
   "source": [
    "# Clean topics and update mongoDB\n",
    "Existing topics may have html format.  This will clean the format and update the mongoDB"
   ]
  },
  {
   "cell_type": "code",
   "execution_count": 2,
   "metadata": {},
   "outputs": [],
   "source": [
    "import sys\n",
    "sys.path.append('/Users/keemsunguk/Projects/EssayGrader/')"
   ]
  },
  {
   "cell_type": "code",
   "execution_count": 3,
   "metadata": {},
   "outputs": [],
   "source": [
    "import json\n",
    "import re"
   ]
  },
  {
   "cell_type": "code",
   "execution_count": 4,
   "metadata": {},
   "outputs": [],
   "source": [
    "from egrader.preprocess import Preprocess"
   ]
  },
  {
   "cell_type": "code",
   "execution_count": 5,
   "metadata": {},
   "outputs": [
    {
     "name": "stdout",
     "output_type": "stream",
     "text": [
      "==== REMOTE ====\n",
      "['essays']\n",
      "Total Essay: 32246\n",
      "Total SAT: 3323\n",
      "Total TOEFL: 4614\n",
      "Total GRE: 6716\n"
     ]
    }
   ],
   "source": [
    "from egrader.db_util import DBUtil\n",
    "db_util = DBUtil()\n",
    "db_util.describe_db()"
   ]
  },
  {
   "cell_type": "code",
   "execution_count": 6,
   "metadata": {},
   "outputs": [
    {
     "name": "stdout",
     "output_type": "stream",
     "text": [
      "Loaded model 'en_core_web_lg'\n"
     ]
    },
    {
     "data": {
      "text/plain": [
       "''"
      ]
     },
     "execution_count": 6,
     "metadata": {},
     "output_type": "execute_result"
    }
   ],
   "source": [
    "pp = Preprocess(\"\")\n",
    "pp.clean_html()"
   ]
  },
  {
   "cell_type": "code",
   "execution_count": 18,
   "metadata": {},
   "outputs": [
    {
     "name": "stdout",
     "output_type": "stream",
     "text": [
      "32246\n"
     ]
    }
   ],
   "source": [
    "topics = [{'_id': m['_id'], 'topic': m['topic']} for m in db_util.remote_ec.find({})]\n",
    "print(len(topics))"
   ]
  },
  {
   "cell_type": "code",
   "execution_count": 25,
   "metadata": {},
   "outputs": [
    {
     "name": "stderr",
     "output_type": "stream",
     "text": [
      "/Users/keemsunguk/opt/anaconda3/lib/python3.7/site-packages/ipykernel_launcher.py:2: DeprecationWarning: update is deprecated. Use replace_one, update_one or update_many instead.\n",
      "  \n",
      "/Users/keemsunguk/opt/anaconda3/lib/python3.7/site-packages/bs4/__init__.py:294: UserWarning: \"b'.'\" looks like a filename, not markup. You should probably open this file and pass the filehandle into Beautiful Soup.\n",
      "  ' Beautiful Soup.' % markup)\n",
      "/Users/keemsunguk/opt/anaconda3/lib/python3.7/site-packages/bs4/__init__.py:294: UserWarning: \"b'..'\" looks like a filename, not markup. You should probably open this file and pass the filehandle into Beautiful Soup.\n",
      "  ' Beautiful Soup.' % markup)\n"
     ]
    }
   ],
   "source": [
    "for t in topics:\n",
    "    db_util.remote_ec.update({'_id': t['_id']}, {'$set': {'topic': pp.clean_html(t['topic'])}}, upsert=False)"
   ]
  },
  {
   "cell_type": "code",
   "execution_count": 27,
   "metadata": {},
   "outputs": [
    {
     "data": {
      "text/plain": [
       "32246"
      ]
     },
     "execution_count": 27,
     "metadata": {},
     "output_type": "execute_result"
    }
   ],
   "source": [
    "db_util.remote_ec.count_documents({})"
   ]
  },
  {
   "cell_type": "code",
   "execution_count": 30,
   "metadata": {},
   "outputs": [
    {
     "data": {
      "text/plain": [
       "{'_id': ObjectId('5cd245d5f27f8d12134f5027'),\n",
       " 'essay': 'The letter from a committee contains an assertion that there should be restrictions on landscaping and housepainting to raise the property values. It show an example of Brookville and assumes that the increase in the property values in Brookville is due to the set of restrictions on landscaping and housepainting which was adopted seven years ago. But there is no evidence that those regulations actually contributed to raising the property values. The property values are affected by many factors and seven years is a long time for other factors rather than landscaping and housepainting could have affected the property values. Before adopting the own set of restrictions, the committee should study the direct relationship between the restrictions in Brookville and the increase in the property values.\\r\\n\\r\\n     The property values can be affected by many factors. If they were increased, it could be due to a new factory built in a nearby village or a new department store in the village. The policy of the city government could also change the property valuse such as building a new highway near the village or making the village the center of business. Compared with these examples, the restrictions on landscaping and housepainting may be less important or have little effect. And those restrictions could have been negative in increasing the property values by causing inconvenience to homeowners. Seven years is a long time and many other factors could have involved in the property value increase. \\r\\n\\r\\n     If the committee really wants to raise the property values and its strategy is adopting a set of restrictions on landscaping and housepainting, the committee should study the direct relationship between the restrictions and the property valuse in Brookville, whether they have been positive or negative, or even have any effect. Before doing these research, the assertion in the letter from a committee fall greatly short of plausibility.',\n",
       " 'time_stamp': 2905,\n",
       " 'user_id': 'interdna@postech.ac.kr',\n",
       " 'wcount': 311,\n",
       " 'topic': \"Argument: The following appeared in a letter sent by a committee of homeowners from the Deerhaven Acres to all homeowners in Deerhaven Acres. [Seven years ago, homeowners in nearby Brookville community adopted a set of restrictions on how the community's yards should be landscaped and what colors the exteriors of homes should be painted. Since then, average property values have tripled in Brookville. In order to raise property values in Deerhaven Acres, we should adopt our own set of restrictions on landscaping and housepainting.]\",\n",
       " 'edited': '/review/196.htm',\n",
       " 'type': '',\n",
       " 'created': '2002-11-05',\n",
       " 'recno': 196,\n",
       " 'editor': 'JB',\n",
       " 'rate2': 40.0,\n",
       " 'rate': 4.0,\n",
       " 'reviewed': '2002-11-06'}"
      ]
     },
     "execution_count": 30,
     "metadata": {},
     "output_type": "execute_result"
    }
   ],
   "source": [
    "db_util.remote_ec.find_one({})"
   ]
  },
  {
   "cell_type": "code",
   "execution_count": null,
   "metadata": {},
   "outputs": [],
   "source": []
  }
 ],
 "metadata": {
  "kernelspec": {
   "display_name": "Python 3",
   "language": "python",
   "name": "python3"
  },
  "language_info": {
   "codemirror_mode": {
    "name": "ipython",
    "version": 3
   },
   "file_extension": ".py",
   "mimetype": "text/x-python",
   "name": "python",
   "nbconvert_exporter": "python",
   "pygments_lexer": "ipython3",
   "version": "3.7.4"
  }
 },
 "nbformat": 4,
 "nbformat_minor": 4
}
