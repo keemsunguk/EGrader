{
 "cells": [
  {
   "cell_type": "code",
   "execution_count": 58,
   "metadata": {},
   "outputs": [
    {
     "name": "stdout",
     "output_type": "stream",
     "text": [
      "The autoreload extension is already loaded. To reload it, use:\n",
      "  %reload_ext autoreload\n"
     ]
    }
   ],
   "source": [
    "%load_ext autoreload\n",
    "%autoreload 2"
   ]
  },
  {
   "cell_type": "code",
   "execution_count": 59,
   "metadata": {},
   "outputs": [],
   "source": [
    "import sys\n",
    "import os\n",
    "import re\n",
    "import pandas as pd\n",
    "import pickle\n",
    "sys.path.append('/Users/keemsunguk/Projects/EssayGrader/')"
   ]
  },
  {
   "cell_type": "code",
   "execution_count": 70,
   "metadata": {},
   "outputs": [],
   "source": [
    "import pprint "
   ]
  },
  {
   "cell_type": "code",
   "execution_count": 94,
   "metadata": {},
   "outputs": [],
   "source": [
    "from egrader.preprocess import Preprocess"
   ]
  },
  {
   "cell_type": "code",
   "execution_count": 95,
   "metadata": {},
   "outputs": [],
   "source": [
    "import requests"
   ]
  },
  {
   "cell_type": "raw",
   "metadata": {},
   "source": [
    "resp = requests.get('http://www.mywebsite.com/user')\n",
    "resp = requests.post('http://www.mywebsite.com/user')\n",
    "resp = requests.put('http://www.mywebsite.com/user/put')\n",
    "resp = requests.delete('http://www.mywebsite.com/user/delete')"
   ]
  },
  {
   "cell_type": "code",
   "execution_count": 6,
   "metadata": {},
   "outputs": [],
   "source": [
    "nyt_url = \"https://www.nytimes.com\""
   ]
  },
  {
   "cell_type": "code",
   "execution_count": 7,
   "metadata": {},
   "outputs": [],
   "source": [
    "nytime1 = requests.get(nyt_url+\"/2020/08/01/opinion/sunday/mail-voting-covid-2020-election.html\")"
   ]
  },
  {
   "cell_type": "code",
   "execution_count": 96,
   "metadata": {},
   "outputs": [],
   "source": [
    "preprocessor = Preprocess(None)"
   ]
  },
  {
   "cell_type": "code",
   "execution_count": 97,
   "metadata": {
    "collapsed": true,
    "jupyter": {
     "outputs_hidden": true
    }
   },
   "outputs": [
    {
     "data": {
      "text/plain": [
       "['Advertisement',\n",
       " '\\n',\n",
       " 'Supported by',\n",
       " '\\n',\n",
       " 'Especially amid the pandemic, it’s the surest path to a more inclusive, more accurate and more secure election.',\n",
       " '\\n',\n",
       " 'By The Editorial Board',\n",
       " '\\n',\n",
       " 'The editorial board is a group of opinion journalists whose views are informed by expertise, research, debate and certain longstanding values.',\n",
       " 'It is separate from the newsroom.',\n",
       " '\\n',\n",
       " 'For a man who votes by mail himself, Donald Trump is strangely obsessed with the idea that it is the most dangerous method of casting a ballot.',\n",
       " '\\n',\n",
       " 'The president was at it again this week.',\n",
       " '“Rigged Election,” he tweeted of New York’s well-publicized struggles with counting mail-in votes.',\n",
       " '“Same thing would happen, but on massive scale, with USA”.',\n",
       " '\\n',\n",
       " 'Voting by mail is a “catastrophic disaster,” he later said, “an easy way for foreign countries to enter the race.',\n",
       " '” Any election conducted by mail would be “INACCURATE AND FRAUDULENT”.',\n",
       " '\\n',\n",
       " 'Finally, the hammer: “Delay the Election until people can properly, securely and safely vote???”',\n",
       " '\\n',\n",
       " 'In a word, Mr President: No.',\n",
       " '\\n',\n",
       " 'The election will not be delayed — because the president can’t legally delay it.',\n",
       " 'Its date is set by federal law, as is the date on which the presidential electors must cast their ballots.',\n",
       " 'Then there’s the backstop of Inauguration Day, set by the Constitution as Jan 20.',\n",
       " '\\n',\n",
       " 'Mr Trump says things like this often enough that it can be easy to brush him off.',\n",
       " 'He even claimed that the 2016 election, which he won, was rigged.',\n",
       " \"But the president's words, however misleading, carry weight.\",\n",
       " 'So it is necessary to say it again: Especially in the midst of a raging pandemic, voting by mail is the surest path to a more inclusive, more accurate and more secure election.',\n",
       " '\\n',\n",
       " 'The good news is that the primary season gave states a chance to run their elections with far more mail-in ballots than usual, and in many places the system worked well.',\n",
       " 'But there were multiple high-profile examples of mail voting gone wrong.',\n",
       " 'In Wisconsin, thousands of absentee ballots were requested and never received.',\n",
       " 'In New Jersey, 10 percent of mail ballots were thrown out for arriving too late or for being otherwise deficient.',\n",
       " 'In Pennsylvania, tens of thousands of absentee votes were either not cast or not counted, especially among voters who requested their absentee ballots closer to the election.',\n",
       " '\\n',\n",
       " 'Mr Trump and his allies have exploited these bungles to the hilt, claiming that they reveal how dangerous it is to vote by mail.',\n",
       " 'Ignore them.',\n",
       " 'Voting by mail — or absentee voting, which Mr Trump pretends is something different even though it isn’t — has risks like any other method, but overall it is safe and accurate.',\n",
       " 'So safe and accurate, in fact, that in five states most or all voters use it, and in three other states more than half do.',\n",
       " 'In those states, elections go off without a hitch.',\n",
       " '\\n',\n",
       " 'That’s why as soon as the pandemic hit, it was clear that expanding access to mail voting across the country would be essential for the November election to succeed.',\n",
       " 'Voting experts pleaded with Congress to supply the necessary funds to help states with less experience in processing absentee ballots.',\n",
       " '\\n',\n",
       " 'More than four months later, only a fraction of that money has been handed out.',\n",
       " 'As Congress battles over the latest stimulus bill, it’s not clear if any more is on the way.',\n",
       " 'This is a dereliction of Congress’s duty to ensure the functioning of American democracy.',\n",
       " '\\n',\n",
       " 'The American people need to be able to vote in the November election, and they need to be able to trust the outcome of that vote.',\n",
       " 'What can be done over the next three months to make the process as accessible, accurate and secure as possible? Here are three relatively straightforward tasks.',\n",
       " '\\n',\n",
       " 'First, aggressively counter misinformation about mail voting, which continues to be spread not just by President Trump, but also by top members of his administration.',\n",
       " '\\n',\n",
       " 'On Tuesday, Attorney General William Barr testified in Congress that he believed mail voting on a large scale presented a “high risk” for massive voter fraud.',\n",
       " '\\n',\n",
       " 'As Mr Barr well knows, voter fraud is rare and is virtually nonexistent in the states where most or all voters cast their ballots by mail.',\n",
       " '\\n',\n",
       " 'The problem is that many people in the Republican Party are convinced of its own unpopularity: Some openly admit their belief that when more people vote, Republicans are more likely to lose.',\n",
       " 'In March, Mr Trump complained about a proposal by House Democrats to expand access to the ballot.',\n",
       " '“They had levels of voting, that if you ever agreed to it, you’d never have a Republican elected in this country again,” he said.',\n",
       " '\\n',\n",
       " 'It’s true that mail voting increases turnout, particularly among groups that tend not to vote, like young people.',\n",
       " 'Colorado saw a turnout increase of 9 percent when it switched to all-mail voting, and the increase was nearly double that among young voters.',\n",
       " '\\n',\n",
       " 'Republicans may be thinking about numbers like these when they rail against mail voting.',\n",
       " 'But the turnout increases from mail voting don’t appear to change the results.',\n",
       " '\\n',\n",
       " 'The real reason to make mail voting widely accessible isn’t to help one party or another — it’s to help the American people participate in their own democracy as fully as possible.',\n",
       " 'That’s why voters of both parties like it so much, which may be the best evidence of all that it has no built-in partisan bias.',\n",
       " '\\n',\n",
       " 'Second, public officials must educate voters.',\n",
       " '\\n',\n",
       " 'In 2016, nearly one in four voters cast their ballots by mail.',\n",
       " 'Still, voting by mail remains a novelty for most Americans, who are used to walking into their polling place on Election Day, registering their vote and handing their ballot to another human being — or at least feeding it into a scanner.',\n",
       " 'It’s understandable that people would be wary of or confused by a new method.',\n",
       " '\\n',\n",
       " 'That’s why public-education efforts will be critical over the next few months.',\n",
       " 'State and local officials need to explain, in clear and simple terms, when and how to request an absentee ballot and how to fill one out, sign it and send it back.',\n",
       " 'This will make the process more secure and also reduce the number of ballots rejected because they weren’t properly filled out or signed.',\n",
       " 'When ballots are rejected, states must give voters a fair opportunity to fix any errors.',\n",
       " '\\n',\n",
       " 'Of course, all the education in the world won’t help if ballots are rejected or uncounted through no fault of the voter — say, because mail backups delay their arrival.',\n",
       " 'By one estimate, as many as 4 percent of all mail ballots went uncounted in 2016.',\n",
       " 'At a minimum, states that don’t already accept ballots that arrive after Election Day must update their election laws and rules to do so.',\n",
       " 'Whether they allow for a week or 10 days, the window needs to be long enough to account for delays in mail handling and postmark mix-ups that led to the dumping of so many absentee ballots in New York’s primary.',\n",
       " '(The postmaster general, a Trump donor named Louis DeJoy, is making matters worse by slashing overtime and slowing the delivery of regular mail.',\n",
       " 'Perhaps not coincidentally, Mr Trump has started insisting that a winner be called on election night itself, and not a moment later.',\n",
       " ').',\n",
       " '\\n',\n",
       " 'The crush on the Postal Service will be real, and it can be eased by providing more places for voters to drop off their ballots in person — like dedicated drop boxes, which are popular in Colorado.',\n",
       " '\\n',\n",
       " 'The pressure on election workers to process all those extra mail ballots can be alleviated by hiring more of them, paying them a decent wage and, critically, reminding voters not to get antsy when final results aren’t immediately clear.',\n",
       " 'Counting absentee ballots can take time.',\n",
       " 'That’s not fraud.',\n",
       " '.',\n",
       " '\\n',\n",
       " 'Third, officials need to ensure that in-person voting is safe and available for those who either do not receive a mail ballot or are not comfortable voting that way.',\n",
       " '\\n',\n",
       " 'This is made more difficult because many polling places are being shut down for public-health reasons, and thousands of poll workers — many of whom are older and at increased risk for severe illness — are declining to volunteer.',\n",
       " 'That’s all the more reason to hire more (and younger) poll workers, and to provide large spaces where voters can stay socially distanced.',\n",
       " '\\n',\n",
       " 'Nathaniel Persily and Charles Stewart, two voting experts, suggest making Election Day a school holiday and turning big-box retailers into polling places.',\n",
       " 'That advice has been taken up by NBA teams in three battleground states, who have offered their arenas as polling sites.',\n",
       " 'Other venues ought to follow suit.',\n",
       " '\\n',\n",
       " 'Early voting and same-day voter registration — reforms that have proved to increase turnout — are all the more important this year, as millions of Americans either have moved or have temporarily relocated as a result of the pandemic, and may not have their registration in order.',\n",
       " '\\n',\n",
       " 'In the end, most of these fixes come down to money: to educate voters, to print more mail ballots and envelopes, to hire more poll workers and election workers, to provide masks and other protective gear, to rent large spaces as one-time precincts.',\n",
       " '\\n',\n",
       " 'Voting experts have said for months that it’s in the range of $4 billion — a lot of money, to be sure, but a rounding error in the context of the trillions already allocated in the stimulus bills passed by Congress.',\n",
       " '\\n',\n",
       " 'Despite all the obstacles in this unprecedented moment, Americans will vote this year, possibly in record numbers.',\n",
       " 'It’s not a matter of whether tens of millions of them will do so by mail, but whether they will have their voices heard, and whether we can all be patient enough to get through what may well be the most extraordinary election in our lifetime.',\n",
       " '\\n',\n",
       " 'The Times is committed to publishing a diversity of letters to the editor.',\n",
       " 'We’d like to hear what you think about this or any of our articles.',\n",
       " 'Here are some tips.',\n",
       " 'And here’s our email: letters@nytimes.',\n",
       " 'com.',\n",
       " '\\n',\n",
       " 'Follow The New York Times Opinion section on Facebook, Twitter (@NYTopinion) and Instagram.',\n",
       " '\\n',\n",
       " 'Advertisement',\n",
       " '\\n']"
      ]
     },
     "execution_count": 97,
     "metadata": {},
     "output_type": "execute_result"
    }
   ],
   "source": [
    "sentences = preprocessor.extract_body_sentences(nytime1.text)\n",
    "sentences"
   ]
  },
  {
   "cell_type": "code",
   "execution_count": 98,
   "metadata": {},
   "outputs": [],
   "source": [
    "body_text = ' '.join(sentences)"
   ]
  },
  {
   "cell_type": "code",
   "execution_count": 99,
   "metadata": {},
   "outputs": [
    {
     "name": "stdout",
     "output_type": "stream",
     "text": [
      "Advertisement \n",
      " Supported by \n",
      " Especially amid the pandemic, it’s the surest path to a more inclusive, more accurate and more secure election. \n",
      " By The Editorial Board \n",
      " The editorial board is a group of opinion journalists whose views are informed by expertise, research, debate and certain longstanding values. It is separate from the newsroom. \n",
      " For a man who votes by mail himself, Donald Trump is strangely obsessed with the idea that it is the most dangerous method of casting a ballot. \n",
      " The president was at it again this week. “Rigged Election,” he tweeted of New York’s well-publicized struggles with counting mail-in votes. “Same thing would happen, but on massive scale, with USA”. \n",
      " Voting by mail is a “catastrophic disaster,” he later said, “an easy way for foreign countries to enter the race. ” Any election conducted by mail would be “INACCURATE AND FRAUDULENT”. \n",
      " Finally, the hammer: “Delay the Election until people can properly, securely and safely vote???” \n",
      " In a word, Mr President: No. \n",
      " The election will not be delayed — because the president can’t legally delay it. Its date is set by federal law, as is the date on which the presidential electors must cast their ballots. Then there’s the backstop of Inauguration Day, set by the Constitution as Jan 20. \n",
      " Mr Trump says things like this often enough that it can be easy to brush him off. He even claimed that the 2016 election, which he won, was rigged. But the president's words, however misleading, carry weight. So it is necessary to say it again: Especially in the midst of a raging pandemic, voting by mail is the surest path to a more inclusive, more accurate and more secure election. \n",
      " The good news is that the primary season gave states a chance to run their elections with far more mail-in ballots than usual, and in many places the system worked well. But there were multiple high-profile examples of mail voting gone wrong. In Wisconsin, thousands of absentee ballots were requested and never received. In New Jersey, 10 percent of mail ballots were thrown out for arriving too late or for being otherwise deficient. In Pennsylvania, tens of thousands of absentee votes were either not cast or not counted, especially among voters who requested their absentee ballots closer to the election. \n",
      " Mr Trump and his allies have exploited these bungles to the hilt, claiming that they reveal how dangerous it is to vote by mail. Ignore them. Voting by mail — or absentee voting, which Mr Trump pretends is something different even though it isn’t — has risks like any other method, but overall it is safe and accurate. So safe and accurate, in fact, that in five states most or all voters use it, and in three other states more than half do. In those states, elections go off without a hitch. \n",
      " That’s why as soon as the pandemic hit, it was clear that expanding access to mail voting across the country would be essential for the November election to succeed. Voting experts pleaded with Congress to supply the necessary funds to help states with less experience in processing absentee ballots. \n",
      " More than four months later, only a fraction of that money has been handed out. As Congress battles over the latest stimulus bill, it’s not clear if any more is on the way. This is a dereliction of Congress’s duty to ensure the functioning of American democracy. \n",
      " The American people need to be able to vote in the November election, and they need to be able to trust the outcome of that vote. What can be done over the next three months to make the process as accessible, accurate and secure as possible? Here are three relatively straightforward tasks. \n",
      " First, aggressively counter misinformation about mail voting, which continues to be spread not just by President Trump, but also by top members of his administration. \n",
      " On Tuesday, Attorney General William Barr testified in Congress that he believed mail voting on a large scale presented a “high risk” for massive voter fraud. \n",
      " As Mr Barr well knows, voter fraud is rare and is virtually nonexistent in the states where most or all voters cast their ballots by mail. \n",
      " The problem is that many people in the Republican Party are convinced of its own unpopularity: Some openly admit their belief that when more people vote, Republicans are more likely to lose. In March, Mr Trump complained about a proposal by House Democrats to expand access to the ballot. “They had levels of voting, that if you ever agreed to it, you’d never have a Republican elected in this country again,” he said. \n",
      " It’s true that mail voting increases turnout, particularly among groups that tend not to vote, like young people. Colorado saw a turnout increase of 9 percent when it switched to all-mail voting, and the increase was nearly double that among young voters. \n",
      " Republicans may be thinking about numbers like these when they rail against mail voting. But the turnout increases from mail voting don’t appear to change the results. \n",
      " The real reason to make mail voting widely accessible isn’t to help one party or another — it’s to help the American people participate in their own democracy as fully as possible. That’s why voters of both parties like it so much, which may be the best evidence of all that it has no built-in partisan bias. \n",
      " Second, public officials must educate voters. \n",
      " In 2016, nearly one in four voters cast their ballots by mail. Still, voting by mail remains a novelty for most Americans, who are used to walking into their polling place on Election Day, registering their vote and handing their ballot to another human being — or at least feeding it into a scanner. It’s understandable that people would be wary of or confused by a new method. \n",
      " That’s why public-education efforts will be critical over the next few months. State and local officials need to explain, in clear and simple terms, when and how to request an absentee ballot and how to fill one out, sign it and send it back. This will make the process more secure and also reduce the number of ballots rejected because they weren’t properly filled out or signed. When ballots are rejected, states must give voters a fair opportunity to fix any errors. \n",
      " Of course, all the education in the world won’t help if ballots are rejected or uncounted through no fault of the voter — say, because mail backups delay their arrival. By one estimate, as many as 4 percent of all mail ballots went uncounted in 2016. At a minimum, states that don’t already accept ballots that arrive after Election Day must update their election laws and rules to do so. Whether they allow for a week or 10 days, the window needs to be long enough to account for delays in mail handling and postmark mix-ups that led to the dumping of so many absentee ballots in New York’s primary. (The postmaster general, a Trump donor named Louis DeJoy, is making matters worse by slashing overtime and slowing the delivery of regular mail. Perhaps not coincidentally, Mr Trump has started insisting that a winner be called on election night itself, and not a moment later. ). \n",
      " The crush on the Postal Service will be real, and it can be eased by providing more places for voters to drop off their ballots in person — like dedicated drop boxes, which are popular in Colorado. \n",
      " The pressure on election workers to process all those extra mail ballots can be alleviated by hiring more of them, paying them a decent wage and, critically, reminding voters not to get antsy when final results aren’t immediately clear. Counting absentee ballots can take time. That’s not fraud. . \n",
      " Third, officials need to ensure that in-person voting is safe and available for those who either do not receive a mail ballot or are not comfortable voting that way. \n",
      " This is made more difficult because many polling places are being shut down for public-health reasons, and thousands of poll workers — many of whom are older and at increased risk for severe illness — are declining to volunteer. That’s all the more reason to hire more (and younger) poll workers, and to provide large spaces where voters can stay socially distanced. \n",
      " Nathaniel Persily and Charles Stewart, two voting experts, suggest making Election Day a school holiday and turning big-box retailers into polling places. That advice has been taken up by NBA teams in three battleground states, who have offered their arenas as polling sites. Other venues ought to follow suit. \n",
      " Early voting and same-day voter registration — reforms that have proved to increase turnout — are all the more important this year, as millions of Americans either have moved or have temporarily relocated as a result of the pandemic, and may not have their registration in order. \n",
      " In the end, most of these fixes come down to money: to educate voters, to print more mail ballots and envelopes, to hire more poll workers and election workers, to provide masks and other protective gear, to rent large spaces as one-time precincts. \n",
      " Voting experts have said for months that it’s in the range of $4 billion — a lot of money, to be sure, but a rounding error in the context of the trillions already allocated in the stimulus bills passed by Congress. \n",
      " Despite all the obstacles in this unprecedented moment, Americans will vote this year, possibly in record numbers. It’s not a matter of whether tens of millions of them will do so by mail, but whether they will have their voices heard, and whether we can all be patient enough to get through what may well be the most extraordinary election in our lifetime. \n",
      " The Times is committed to publishing a diversity of letters to the editor. We’d like to hear what you think about this or any of our articles. Here are some tips. And here’s our email: letters@nytimes. com. \n",
      " Follow The New York Times Opinion section on Facebook, Twitter (@NYTopinion) and Instagram. \n",
      " Advertisement \n",
      "\n"
     ]
    }
   ],
   "source": [
    "print(body_text)"
   ]
  },
  {
   "cell_type": "code",
   "execution_count": null,
   "metadata": {},
   "outputs": [],
   "source": []
  }
 ],
 "metadata": {
  "kernelspec": {
   "display_name": "base37",
   "language": "python",
   "name": "base37"
  },
  "language_info": {
   "codemirror_mode": {
    "name": "ipython",
    "version": 3
   },
   "file_extension": ".py",
   "mimetype": "text/x-python",
   "name": "python",
   "nbconvert_exporter": "python",
   "pygments_lexer": "ipython3",
   "version": "3.7.7"
  }
 },
 "nbformat": 4,
 "nbformat_minor": 4
}
